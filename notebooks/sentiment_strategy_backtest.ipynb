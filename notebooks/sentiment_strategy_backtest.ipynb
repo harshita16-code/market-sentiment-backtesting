# Sentiment Analysis & Trading Strategy Backtesting
# Author: Harshita Singh

import pandas as pd
import numpy as np
import matplotlib.pyplot as plt
import yfinance as yf

# Example: Download stock data
data = yf.download("AAPL", start="2022-01-01", end="2023-01-01")
data.head()
